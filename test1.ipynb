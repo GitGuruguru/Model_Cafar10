{
 "cells": [
  {
   "cell_type": "code",
   "execution_count": null,
   "metadata": {},
   "outputs": [],
   "source": [
    "import torch\n",
    "import torch.nn as nn\n",
    "import torch.optim as optim\n",
    "import torchvision\n",
    "import torchvision.transforms as transforms\n",
    "from tqdm import tqdm\n"
   ]
  },
  {
   "cell_type": "code",
   "execution_count": 2,
   "metadata": {},
   "outputs": [],
   "source": [
    "transform = transforms.Compose([\n",
    "    transforms.ToTensor(),\n",
    "    transforms.Normalize((0.5, 0.5, 0.5), (0.5, 0.5, 0.5))\n",
    "])\n"
   ]
  },
  {
   "cell_type": "code",
   "execution_count": 3,
   "metadata": {},
   "outputs": [],
   "source": [
    "# Train data \n",
    "train = torchvision.datasets.CIFAR10('./CIFAR10',\n",
    "                                     train=True,\n",
    "                                     download=False,\n",
    "                                     transform=transform)\n",
    "# Test data \n",
    "\n",
    "test = torchvision.datasets.CIFAR10('./CIFAR10',\n",
    "                                     train=False,\n",
    "                                     download=False,\n",
    "                                     transform=transform)"
   ]
  },
  {
   "cell_type": "code",
   "execution_count": 4,
   "metadata": {},
   "outputs": [],
   "source": [
    "from torch.utils.data import DataLoader\n",
    "\n",
    "# Load data into DataLoader\n",
    "trainloader = DataLoader(train,64,shuffle=True)\n",
    "testloader = DataLoader(test,64,shuffle=True)"
   ]
  },
  {
   "cell_type": "code",
   "execution_count": 5,
   "metadata": {},
   "outputs": [],
   "source": [
    "classes = ('plane', 'car', 'bird', 'cat', 'deer',\n",
    "           'dog', 'frog', 'horse', 'ship', 'truck')"
   ]
  },
  {
   "cell_type": "code",
   "execution_count": 6,
   "metadata": {},
   "outputs": [],
   "source": [
    "# Make a Convolutional neural network\n",
    "class ConvNet(nn.Module):\n",
    "    def __init__(self) -> None:\n",
    "        # Don't forget \n",
    "        super().__init__() \n",
    "        # Conv layers\n",
    "        self.pool = nn.MaxPool2d(2, 2)\n",
    "        self.cl1 = nn.Conv2d(3,32,3) # 3 inputs for rgb\n",
    "        self.cl2 = nn.Conv2d(32,64,3)\n",
    "        self.cl3 = nn.Conv2d(64,64,3)\n",
    "        #Fully connected layers\n",
    "        self.fc1 = nn.Linear(64 * 4 * 4, 64)\n",
    "        # After convolutions & pooling, size calculation:\n",
    "        # Input: 32x32 -> conv1 -> 30x30 -> pool -> 15x15\n",
    "        # -> conv2 -> 13x13 -> pool -> 6x6\n",
    "        # -> conv3 -> 4x4 with 64 channels\n",
    "        self.fc2 = nn.Linear(64, 10)\n",
    "        self.relu = nn.ReLU()\n",
    "    def forward(self,x):\n",
    "        # P for poling\n",
    "        x = self.pool(self.relu(self.cl1(x)))\n",
    "        x = self.pool(self.relu(self.cl2(x)))\n",
    "        x = self.relu(self.cl3(x))\n",
    "        x = x.view(-1, 64 * 4 * 4)\n",
    "        x = self.relu(self.fc1(x))\n",
    "        x = self.fc2(x)\n",
    "        return x\n",
    "\n",
    "\n",
    "    "
   ]
  },
  {
   "cell_type": "code",
   "execution_count": null,
   "metadata": {},
   "outputs": [],
   "source": [
    "# At the start of your script, add this device setup and dont be stupid use gpu:\n",
    "device = torch.device(\"cuda:1\" if torch.cuda.is_available() else \"cpu\")"
   ]
  },
  {
   "cell_type": "code",
   "execution_count": null,
   "metadata": {},
   "outputs": [],
   "source": [
    "def train_model(model,loss_function,optimaizer,EPOCHS=10):\n",
    "    model.train()\n",
    "    for epoch in range(EPOCHS):\n",
    "        running_loss = 0.0\n",
    "        epoch_iterator = tqdm(enumerate(trainloader),total=len(trainloader),desc=f\"Epoch {epoch+1}/{EPOCHS}\")\n",
    "        for i,(images,labels) in epoch_iterator:\n",
    "            images = images.to(device)\n",
    "            labels = labels.to(device)\n",
    "            \n",
    "\n",
    "            optimaizer.zero_grad()\n",
    "\n",
    "            outputs = model(images)\n",
    "            loss = loss_function(outputs,labels)\n",
    "            loss.backward()\n",
    "            optimaizer.step()\n",
    "\n",
    "            running_loss += loss.item()\n",
    "            \n",
    "            if i % 100 == 99:  # Update every 100 batches\n",
    "                epoch_iterator.set_postfix(loss=(running_loss / 100))\n",
    "                running_loss = 0.0\n",
    "\n",
    "        # Print loss for the current epoch\n",
    "        print(f'Epoch [{epoch+1}/{EPOCHS}] - Loss: {running_loss / len(trainloader):.3f}')"
   ]
  },
  {
   "cell_type": "code",
   "execution_count": 18,
   "metadata": {},
   "outputs": [],
   "source": [
    "from tqdm import tqdm\n",
    "\n",
    "def test_model(model, testloader, device):\n",
    "    model.eval()  # Set model to evaluation mode\n",
    "    correct = 0\n",
    "    total = 0\n",
    "    class_correct = [0] * 10\n",
    "    class_total = [0] * 10\n",
    "    \n",
    "    with torch.no_grad():  # Disable gradient computation for testing\n",
    "        for images, labels in tqdm(testloader, desc=\"Testing\", leave=False):\n",
    "            images, labels = images.to(device), labels.to(device)\n",
    "            outputs = model(images)\n",
    "            _, predicted = torch.max(outputs, 1)\n",
    "            total += labels.size(0)\n",
    "            correct += (predicted == labels).sum().item()\n",
    "            \n",
    "            # Per-class accuracy\n",
    "            c = (predicted == labels)\n",
    "            for i in range(len(labels)):\n",
    "                label = labels[i].item()\n",
    "                class_correct[label] += c[i].item()\n",
    "                class_total[label] += 1\n",
    "\n",
    "    # Calculate and print overall accuracy\n",
    "    overall_accuracy = 100 * correct / total\n",
    "    print(f'Overall Accuracy: {overall_accuracy:.2f}%')\n",
    "    \n",
    "    for i in range(10):\n",
    "        if class_total[i] > 0:\n",
    "            print(f'Accuracy of class {i}: {100 * class_correct[i] / class_total[i]:.2f}%')\n"
   ]
  },
  {
   "cell_type": "code",
   "execution_count": 31,
   "metadata": {},
   "outputs": [
    {
     "name": "stderr",
     "output_type": "stream",
     "text": [
      "Epoch 1/10: 100%|██████████| 782/782 [00:44<00:00, 17.67it/s, loss=1.34]\n"
     ]
    },
    {
     "name": "stdout",
     "output_type": "stream",
     "text": [
      "Epoch [1/10] - Loss: 0.139\n"
     ]
    },
    {
     "name": "stderr",
     "output_type": "stream",
     "text": [
      "Epoch 2/10: 100%|██████████| 782/782 [00:56<00:00, 13.92it/s, loss=1.13]\n"
     ]
    },
    {
     "name": "stdout",
     "output_type": "stream",
     "text": [
      "Epoch [2/10] - Loss: 0.117\n"
     ]
    },
    {
     "name": "stderr",
     "output_type": "stream",
     "text": [
      "Epoch 3/10: 100%|██████████| 782/782 [01:00<00:00, 13.01it/s, loss=1.01] \n"
     ]
    },
    {
     "name": "stdout",
     "output_type": "stream",
     "text": [
      "Epoch [3/10] - Loss: 0.103\n"
     ]
    },
    {
     "name": "stderr",
     "output_type": "stream",
     "text": [
      "Epoch 4/10: 100%|██████████| 782/782 [01:00<00:00, 13.00it/s, loss=0.901]\n"
     ]
    },
    {
     "name": "stdout",
     "output_type": "stream",
     "text": [
      "Epoch [4/10] - Loss: 0.094\n"
     ]
    },
    {
     "name": "stderr",
     "output_type": "stream",
     "text": [
      "Epoch 5/10: 100%|██████████| 782/782 [00:58<00:00, 13.37it/s, loss=0.844]\n"
     ]
    },
    {
     "name": "stdout",
     "output_type": "stream",
     "text": [
      "Epoch [5/10] - Loss: 0.087\n"
     ]
    },
    {
     "name": "stderr",
     "output_type": "stream",
     "text": [
      "Epoch 6/10: 100%|██████████| 782/782 [00:58<00:00, 13.43it/s, loss=0.763]\n"
     ]
    },
    {
     "name": "stdout",
     "output_type": "stream",
     "text": [
      "Epoch [6/10] - Loss: 0.080\n"
     ]
    },
    {
     "name": "stderr",
     "output_type": "stream",
     "text": [
      "Epoch 7/10: 100%|██████████| 782/782 [00:55<00:00, 14.05it/s, loss=0.715]\n"
     ]
    },
    {
     "name": "stdout",
     "output_type": "stream",
     "text": [
      "Epoch [7/10] - Loss: 0.075\n"
     ]
    },
    {
     "name": "stderr",
     "output_type": "stream",
     "text": [
      "Epoch 8/10: 100%|██████████| 782/782 [00:54<00:00, 14.45it/s, loss=0.665]\n"
     ]
    },
    {
     "name": "stdout",
     "output_type": "stream",
     "text": [
      "Epoch [8/10] - Loss: 0.072\n"
     ]
    },
    {
     "name": "stderr",
     "output_type": "stream",
     "text": [
      "Epoch 9/10: 100%|██████████| 782/782 [00:50<00:00, 15.60it/s, loss=0.655]\n"
     ]
    },
    {
     "name": "stdout",
     "output_type": "stream",
     "text": [
      "Epoch [9/10] - Loss: 0.067\n"
     ]
    },
    {
     "name": "stderr",
     "output_type": "stream",
     "text": [
      "Epoch 10/10: 100%|██████████| 782/782 [00:54<00:00, 14.23it/s, loss=0.606]\n"
     ]
    },
    {
     "name": "stdout",
     "output_type": "stream",
     "text": [
      "Epoch [10/10] - Loss: 0.065\n"
     ]
    },
    {
     "name": "stderr",
     "output_type": "stream",
     "text": [
      "                                                          "
     ]
    },
    {
     "name": "stdout",
     "output_type": "stream",
     "text": [
      "Overall Accuracy: 71.41%\n",
      "Accuracy of class 0: 73.50%\n",
      "Accuracy of class 1: 69.50%\n",
      "Accuracy of class 2: 54.60%\n",
      "Accuracy of class 3: 55.80%\n",
      "Accuracy of class 4: 68.70%\n",
      "Accuracy of class 5: 68.50%\n",
      "Accuracy of class 6: 81.00%\n",
      "Accuracy of class 7: 75.50%\n",
      "Accuracy of class 8: 81.70%\n",
      "Accuracy of class 9: 85.30%\n"
     ]
    },
    {
     "name": "stderr",
     "output_type": "stream",
     "text": [
      "\r"
     ]
    }
   ],
   "source": [
    "model = ConvNet().to(device)\n",
    "loss = nn.CrossEntropyLoss()\n",
    "optimizer = optim.Adam(model.parameters(), lr=0.001)\n",
    "train_model(model,loss_function=loss,optimaizer=optimizer,)\n",
    "test_model(model,device=device,testloader=testloader)"
   ]
  },
  {
   "cell_type": "code",
   "execution_count": 32,
   "metadata": {},
   "outputs": [],
   "source": [
    "net = ConvNet()"
   ]
  },
  {
   "cell_type": "code",
   "execution_count": 33,
   "metadata": {},
   "outputs": [],
   "source": [
    "torch.save(net, 'model2.pth')\n",
    "\n",
    "torch.save(net.state_dict(), 'model_weights2.pth')\n"
   ]
  }
 ],
 "metadata": {
  "kernelspec": {
   "display_name": ".venv",
   "language": "python",
   "name": "python3"
  },
  "language_info": {
   "codemirror_mode": {
    "name": "ipython",
    "version": 3
   },
   "file_extension": ".py",
   "mimetype": "text/x-python",
   "name": "python",
   "nbconvert_exporter": "python",
   "pygments_lexer": "ipython3",
   "version": "3.12.4"
  }
 },
 "nbformat": 4,
 "nbformat_minor": 2
}
