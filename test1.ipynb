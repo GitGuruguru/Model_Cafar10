{
 "cells": [
  {
   "cell_type": "code",
   "execution_count": 2,
   "metadata": {},
   "outputs": [],
   "source": [
    "import torch\n",
    "import torch.nn as nn\n",
    "import torch.optim as optim\n",
    "import torchvision\n",
    "import torchvision.transforms as transforms\n"
   ]
  },
  {
   "cell_type": "code",
   "execution_count": 3,
   "metadata": {},
   "outputs": [],
   "source": [
    "transform = transforms.Compose([\n",
    "    transforms.ToTensor(),\n",
    "    transforms.Normalize((0.5, 0.5, 0.5), (0.5, 0.5, 0.5))\n",
    "])\n"
   ]
  },
  {
   "cell_type": "code",
   "execution_count": null,
   "metadata": {},
   "outputs": [],
   "source": [
    "# Train data \n",
    "train = torchvision.datasets.CIFAR10('./CIFAR10',\n",
    "                                     train=True,\n",
    "                                     download=False,\n",
    "                                     transform=transform)\n",
    "# Test data \n",
    "\n",
    "test = torchvision.datasets.CIFAR10('./CIFAR10',\n",
    "                                     train=False,\n",
    "                                     download=False,\n",
    "                                     transform=transform)"
   ]
  },
  {
   "cell_type": "code",
   "execution_count": null,
   "metadata": {},
   "outputs": [],
   "source": [
    "from torch.utils.data import DataLoader\n",
    "\n",
    "# Load data into DataLoader\n",
    "trainloader = DataLoader(train,64,shuffle=True)\n",
    "testloader = DataLoader(test,64,shuffle=True)"
   ]
  },
  {
   "cell_type": "code",
   "execution_count": 6,
   "metadata": {},
   "outputs": [],
   "source": [
    "classes = ('plane', 'car', 'bird', 'cat', 'deer',\n",
    "           'dog', 'frog', 'horse', 'ship', 'truck')"
   ]
  },
  {
   "cell_type": "code",
   "execution_count": null,
   "metadata": {},
   "outputs": [],
   "source": [
    "# Make a Convolutional neural network\n",
    "class Net(nn.Module):\n",
    "    def __init__(self) -> None:\n",
    "        # Don't forget \n",
    "        super().__init__() \n",
    "        # Conv layers\n",
    "        self.cl1 = nn.Conv2d(3,32,3) # 3 inputs for rgb\n",
    "        self.cl2 = nn.Conv2d(32,64,3)\n",
    "        self.cl3 = nn.Conv2d(64,64,3)\n",
    "        #Fully connected layers\n",
    "        self.fc1 = nn.Linear(64 * 4 * 4, 64)\n",
    "        self.fc2 = nn.Linear(64, 10)\n",
    "        self.relu = nn.ReLU()\n",
    "    def forward(self,x):\n",
    "        # P for poling\n",
    "        x = nn.MaxPool2d(self.relu(self.cl1(x)),(2,2))\n",
    "        x = nn.MaxPool2d(self.relu(self.cl2(x)),(2,2))\n",
    "        x = self.relu(self.cl3(x))\n",
    "        x = x.view(-1, 64 * 4 * 4)\n",
    "        x = self.relu(self.fc1(x))\n",
    "        x = self.fc2(x)\n",
    "        return x\n",
    "\n",
    "\n",
    "    "
   ]
  }
 ],
 "metadata": {
  "kernelspec": {
   "display_name": ".venv",
   "language": "python",
   "name": "python3"
  },
  "language_info": {
   "codemirror_mode": {
    "name": "ipython",
    "version": 3
   },
   "file_extension": ".py",
   "mimetype": "text/x-python",
   "name": "python",
   "nbconvert_exporter": "python",
   "pygments_lexer": "ipython3",
   "version": "3.12.4"
  }
 },
 "nbformat": 4,
 "nbformat_minor": 2
}
