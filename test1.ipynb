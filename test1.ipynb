{
 "cells": [
  {
   "cell_type": "code",
   "execution_count": null,
   "metadata": {},
   "outputs": [],
   "source": [
    "import torch\n",
    "import torch.nn as nn\n",
    "import torch.optim as optim\n",
    "import torchvision\n",
    "import torchvision.transforms as transforms\n",
    "from tqdm import tqdm\n"
   ]
  },
  {
   "cell_type": "code",
   "execution_count": 2,
   "metadata": {},
   "outputs": [],
   "source": [
    "transform = transforms.Compose([\n",
    "    transforms.ToTensor(),\n",
    "    transforms.Normalize((0.5, 0.5, 0.5), (0.5, 0.5, 0.5))\n",
    "])\n"
   ]
  },
  {
   "cell_type": "code",
   "execution_count": 3,
   "metadata": {},
   "outputs": [],
   "source": [
    "# Train data \n",
    "train = torchvision.datasets.CIFAR10('./CIFAR10',\n",
    "                                     train=True,\n",
    "                                     download=False,\n",
    "                                     transform=transform)\n",
    "# Test data \n",
    "\n",
    "test = torchvision.datasets.CIFAR10('./CIFAR10',\n",
    "                                     train=False,\n",
    "                                     download=False,\n",
    "                                     transform=transform)"
   ]
  },
  {
   "cell_type": "code",
   "execution_count": 4,
   "metadata": {},
   "outputs": [],
   "source": [
    "from torch.utils.data import DataLoader\n",
    "\n",
    "# Load data into DataLoader\n",
    "trainloader = DataLoader(train,64,shuffle=True)\n",
    "testloader = DataLoader(test,64,shuffle=True)"
   ]
  },
  {
   "cell_type": "code",
   "execution_count": 5,
   "metadata": {},
   "outputs": [],
   "source": [
    "classes = ('plane', 'car', 'bird', 'cat', 'deer',\n",
    "           'dog', 'frog', 'horse', 'ship', 'truck')"
   ]
  },
  {
   "cell_type": "code",
   "execution_count": 6,
   "metadata": {},
   "outputs": [],
   "source": [
    "# Make a Convolutional neural network\n",
    "class ConvNet(nn.Module):\n",
    "    def __init__(self) -> None:\n",
    "        # Don't forget \n",
    "        super().__init__() \n",
    "        # Conv layers\n",
    "        self.pool = nn.MaxPool2d(2, 2)\n",
    "        self.cl1 = nn.Conv2d(3,32,3) # 3 inputs for rgb\n",
    "        self.cl2 = nn.Conv2d(32,64,3)\n",
    "        self.cl3 = nn.Conv2d(64,64,3)\n",
    "        #Fully connected layers\n",
    "        self.fc1 = nn.Linear(64 * 4 * 4, 64)\n",
    "        # After convolutions & pooling, size calculation:\n",
    "        # Input: 32x32 -> conv1 -> 30x30 -> pool -> 15x15\n",
    "        # -> conv2 -> 13x13 -> pool -> 6x6\n",
    "        # -> conv3 -> 4x4 with 64 channels\n",
    "        self.fc2 = nn.Linear(64, 10)\n",
    "        self.relu = nn.ReLU()\n",
    "    def forward(self,x):\n",
    "        # P for poling\n",
    "        x = self.pool(self.relu(self.cl1(x)))\n",
    "        x = self.pool(self.relu(self.cl2(x)))\n",
    "        x = self.relu(self.cl3(x))\n",
    "        x = x.view(-1, 64 * 4 * 4)\n",
    "        x = self.relu(self.fc1(x))\n",
    "        x = self.fc2(x)\n",
    "        return x\n",
    "\n",
    "\n",
    "    "
   ]
  },
  {
   "cell_type": "code",
   "execution_count": null,
   "metadata": {},
   "outputs": [],
   "source": [
    "# At the start of your script, add this device setup and dont be stupid use gpu:\n",
    "device = torch.device(\"cuda:1\" if torch.cuda.is_available() else \"cpu\")"
   ]
  },
  {
   "cell_type": "code",
   "execution_count": null,
   "metadata": {},
   "outputs": [],
   "source": [
    "def train_model(model,loss_function,optimaizer,EPOCHS=10):\n",
    "    model.train()\n",
    "    for epoch in tqdm(range(EPOCHS)):\n",
    "        running_loss = 0.0\n",
    "        for i,(images,labels) in enumerate(trainloader):\n",
    "            images = images.to(device)\n",
    "            labels = labels.to(device)\n",
    "            \n",
    "\n",
    "            optimaizer.zero_grad()\n",
    "\n",
    "            outputs = model(images)\n",
    "            loss = loss_function(outputs,labels)\n",
    "            loss.backward()\n",
    "            optimaizer.step()\n",
    "\n",
    "            running_loss += loss.item()\n",
    "            \n",
    "            if i % 100 == 99:\n",
    "                print(f'[{epoch + 1}, {i + 1:5d}] loss: {running_loss / 100:.3f}')\n",
    "                running_loss = 0.0"
   ]
  },
  {
   "cell_type": "code",
   "execution_count": null,
   "metadata": {},
   "outputs": [],
   "source": [
    "def test_model(model):\n",
    "    model.eval()\n",
    "    correct = 0\n",
    "    total =0 \n",
    "    class_correct = [0] * 10\n",
    "    class_total = [0] * 10\n",
    "    with torch.no_grad():  # Disable gradient computation\n",
    "        for images, labels in testloader:\n",
    "            images = images.to(device)\n",
    "            labels = labels.to(device)\n",
    "            outputs = model(images)\n",
    "            _, predicted = torch.max(outputs, 1)\n",
    "            total += labels.size(0)\n",
    "            correct += (predicted == labels).sum().item()\n",
    "            \n",
    "            # Per-class accuracy\n",
    "            c = (predicted == labels)\n",
    "            for i in tqdm(range(len(labels))):\n",
    "                label = labels[i]\n",
    "                class_correct[label] += c[i].item()\n",
    "                class_total[label] += 1"
   ]
  },
  {
   "cell_type": "code",
   "execution_count": 13,
   "metadata": {},
   "outputs": [
    {
     "name": "stdout",
     "output_type": "stream",
     "text": [
      "[1,   100] loss: 2.007\n",
      "[1,   200] loss: 1.715\n",
      "[1,   300] loss: 1.558\n",
      "[1,   400] loss: 1.481\n",
      "[1,   500] loss: 1.425\n",
      "[1,   600] loss: 1.372\n",
      "[1,   700] loss: 1.317\n",
      "[2,   100] loss: 1.261\n",
      "[2,   200] loss: 1.244\n",
      "[2,   300] loss: 1.192\n",
      "[2,   400] loss: 1.169\n",
      "[2,   500] loss: 1.126\n",
      "[2,   600] loss: 1.143\n",
      "[2,   700] loss: 1.106\n",
      "[3,   100] loss: 1.033\n",
      "[3,   200] loss: 1.039\n",
      "[3,   300] loss: 1.002\n",
      "[3,   400] loss: 0.994\n",
      "[3,   500] loss: 0.983\n",
      "[3,   600] loss: 0.952\n",
      "[3,   700] loss: 0.971\n",
      "[4,   100] loss: 0.900\n",
      "[4,   200] loss: 0.879\n",
      "[4,   300] loss: 0.885\n",
      "[4,   400] loss: 0.876\n",
      "[4,   500] loss: 0.865\n",
      "[4,   600] loss: 0.883\n",
      "[4,   700] loss: 0.870\n",
      "[5,   100] loss: 0.794\n",
      "[5,   200] loss: 0.796\n",
      "[5,   300] loss: 0.788\n",
      "[5,   400] loss: 0.818\n",
      "[5,   500] loss: 0.798\n",
      "[5,   600] loss: 0.804\n",
      "[5,   700] loss: 0.810\n",
      "[6,   100] loss: 0.712\n",
      "[6,   200] loss: 0.722\n",
      "[6,   300] loss: 0.722\n",
      "[6,   400] loss: 0.748\n",
      "[6,   500] loss: 0.715\n",
      "[6,   600] loss: 0.746\n",
      "[6,   700] loss: 0.759\n",
      "[7,   100] loss: 0.670\n",
      "[7,   200] loss: 0.672\n",
      "[7,   300] loss: 0.674\n",
      "[7,   400] loss: 0.697\n",
      "[7,   500] loss: 0.667\n",
      "[7,   600] loss: 0.694\n",
      "[7,   700] loss: 0.679\n",
      "[8,   100] loss: 0.630\n",
      "[8,   200] loss: 0.638\n",
      "[8,   300] loss: 0.619\n",
      "[8,   400] loss: 0.633\n",
      "[8,   500] loss: 0.636\n",
      "[8,   600] loss: 0.630\n",
      "[8,   700] loss: 0.619\n",
      "[9,   100] loss: 0.574\n",
      "[9,   200] loss: 0.567\n",
      "[9,   300] loss: 0.587\n",
      "[9,   400] loss: 0.591\n",
      "[9,   500] loss: 0.576\n",
      "[9,   600] loss: 0.599\n",
      "[9,   700] loss: 0.626\n",
      "[10,   100] loss: 0.513\n",
      "[10,   200] loss: 0.541\n",
      "[10,   300] loss: 0.543\n",
      "[10,   400] loss: 0.560\n",
      "[10,   500] loss: 0.546\n",
      "[10,   600] loss: 0.563\n",
      "[10,   700] loss: 0.543\n"
     ]
    },
    {
     "ename": "UnboundLocalError",
     "evalue": "cannot access local variable 'correct' where it is not associated with a value",
     "output_type": "error",
     "traceback": [
      "\u001b[1;31m---------------------------------------------------------------------------\u001b[0m",
      "\u001b[1;31mUnboundLocalError\u001b[0m                         Traceback (most recent call last)",
      "Cell \u001b[1;32mIn[13], line 5\u001b[0m\n\u001b[0;32m      3\u001b[0m optimizer \u001b[38;5;241m=\u001b[39m optim\u001b[38;5;241m.\u001b[39mAdam(model\u001b[38;5;241m.\u001b[39mparameters(), lr\u001b[38;5;241m=\u001b[39m\u001b[38;5;241m0.001\u001b[39m)\n\u001b[0;32m      4\u001b[0m train_model(model,loss_function\u001b[38;5;241m=\u001b[39mloss,optimaizer\u001b[38;5;241m=\u001b[39moptimizer,)\n\u001b[1;32m----> 5\u001b[0m \u001b[43mtest_model\u001b[49m\u001b[43m(\u001b[49m\u001b[43mmodel\u001b[49m\u001b[43m)\u001b[49m\n",
      "Cell \u001b[1;32mIn[12], line 14\u001b[0m, in \u001b[0;36mtest_model\u001b[1;34m(model)\u001b[0m\n\u001b[0;32m     12\u001b[0m _, predicted \u001b[38;5;241m=\u001b[39m torch\u001b[38;5;241m.\u001b[39mmax(outputs, \u001b[38;5;241m1\u001b[39m)\n\u001b[0;32m     13\u001b[0m total \u001b[38;5;241m+\u001b[39m\u001b[38;5;241m=\u001b[39m labels\u001b[38;5;241m.\u001b[39msize(\u001b[38;5;241m0\u001b[39m)\n\u001b[1;32m---> 14\u001b[0m \u001b[43mcorrect\u001b[49m \u001b[38;5;241m+\u001b[39m\u001b[38;5;241m=\u001b[39m (predicted \u001b[38;5;241m==\u001b[39m labels)\u001b[38;5;241m.\u001b[39msum()\u001b[38;5;241m.\u001b[39mitem()\n\u001b[0;32m     16\u001b[0m \u001b[38;5;66;03m# Per-class accuracy\u001b[39;00m\n\u001b[0;32m     17\u001b[0m c \u001b[38;5;241m=\u001b[39m (predicted \u001b[38;5;241m==\u001b[39m labels)\n",
      "\u001b[1;31mUnboundLocalError\u001b[0m: cannot access local variable 'correct' where it is not associated with a value"
     ]
    }
   ],
   "source": [
    "model = ConvNet().to(device)\n",
    "loss = nn.CrossEntropyLoss()\n",
    "optimizer = optim.Adam(model.parameters(), lr=0.001)\n",
    "train_model(model,loss_function=loss,optimaizer=optimizer,)\n",
    "test_model(model)"
   ]
  },
  {
   "cell_type": "code",
   "execution_count": 14,
   "metadata": {},
   "outputs": [],
   "source": [
    "net = ConvNet()"
   ]
  },
  {
   "cell_type": "code",
   "execution_count": 15,
   "metadata": {},
   "outputs": [],
   "source": [
    "torch.save(net, 'model.pth')\n",
    "\n",
    "torch.save(net.state_dict(), 'model_weights.pth')\n"
   ]
  }
 ],
 "metadata": {
  "kernelspec": {
   "display_name": ".venv",
   "language": "python",
   "name": "python3"
  },
  "language_info": {
   "codemirror_mode": {
    "name": "ipython",
    "version": 3
   },
   "file_extension": ".py",
   "mimetype": "text/x-python",
   "name": "python",
   "nbconvert_exporter": "python",
   "pygments_lexer": "ipython3",
   "version": "3.12.4"
  }
 },
 "nbformat": 4,
 "nbformat_minor": 2
}
